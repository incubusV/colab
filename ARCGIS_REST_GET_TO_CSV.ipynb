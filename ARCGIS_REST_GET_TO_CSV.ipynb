{
  "nbformat": 4,
  "nbformat_minor": 0,
  "metadata": {
    "colab": {
      "provenance": [],
      "authorship_tag": "ABX9TyMBMOgsiWTGy685WRGgWDQI",
      "include_colab_link": true
    },
    "kernelspec": {
      "name": "python3",
      "display_name": "Python 3"
    },
    "language_info": {
      "name": "python"
    }
  },
  "cells": [
    {
      "cell_type": "markdown",
      "metadata": {
        "id": "view-in-github",
        "colab_type": "text"
      },
      "source": [
        "<a href=\"https://colab.research.google.com/github/incubusV/colab/blob/main/ARCGIS_REST_GET_TO_CSV.ipynb\" target=\"_parent\"><img src=\"https://colab.research.google.com/assets/colab-badge.svg\" alt=\"Open In Colab\"/></a>"
      ]
    },
    {
      "cell_type": "code",
      "source": [
        "import requests\n",
        "import csv\n",
        "\n",
        "# Set the URL for the ArcGIS REST API endpoint\n",
        "url = \"https://gisadaptor.mea.or.th/mapmea/rest/services/CR_SL_BKK/Streetlight_Bangkok_26082022/FeatureServer/0/query\"\n",
        "\n",
        "# Open a CSV file for writing\n",
        "with open(\"features.csv\", \"w\", newline=\"\") as f:\n",
        "    # Set the initial result offset\n",
        "    result_offset = 0\n",
        "\n",
        "    # Loop through all the records\n",
        "    while True:\n",
        "        # Set the parameters for the API call\n",
        "        params = {\n",
        "            \"where\": \"1=1\",\n",
        "            \"outFields\": \"*\",\n",
        "            \"returnGeometry\": \"true\",\n",
        "            \"resultRecordCount\": \"1000\",\n",
        "            \"resultOffset\": result_offset,\n",
        "            \"f\": \"json\"\n",
        "        }\n",
        "\n",
        "        # Make the API call using the requests library\n",
        "        response = requests.get(url, params=params)\n",
        "\n",
        "        # Convert the response to a JSON object\n",
        "        data = response.json()\n",
        "\n",
        "        # Get the field names from the response\n",
        "        fieldnames = [field['name'] for field in data['fields']]\n",
        "\n",
        "        # Add a new field for the feature\n",
        "        fieldnames.append(\"feature_x\")\n",
        "        fieldnames.append(\"feature_y\")\n",
        "\n",
        "        # Create a writer object\n",
        "        writer = csv.DictWriter(f, fieldnames=fieldnames)\n",
        "\n",
        "        # Write the header row only on the first iteration\n",
        "        if result_offset == 0:\n",
        "            writer.writeheader()\n",
        "\n",
        "        # Get the features from the response\n",
        "        features = data[\"features\"]\n",
        "\n",
        "        # Write the features to the CSV file\n",
        "        for feature in features:\n",
        "            row = feature[\"attributes\"]\n",
        "            row[\"feature_x\"] = feature[\"geometry\"][\"x\"]\n",
        "            row[\"feature_y\"] = feature[\"geometry\"][\"y\"]\n",
        "            writer.writerow(row)\n",
        "\n",
        "        # Increment the result offset\n",
        "        result_offset += 1000\n",
        "\n",
        "        # Check if there are more records\n",
        "        if data[\"exceededTransferLimit\"] == False:\n",
        "            break\n"
      ],
      "metadata": {
        "id": "FvCSNGAbRsVF"
      },
      "execution_count": null,
      "outputs": []
    }
  ]
}