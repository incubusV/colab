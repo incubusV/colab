{
 "cells": [
  {
   "cell_type": "markdown",
   "metadata": {},
   "source": [
    "<a href=\"https://colab.research.google.com/github/incubusV/colab/blob/main/Walkability_Score_Calculator.ipynb\" target=\"_parent\"><img src=\"https://colab.research.google.com/assets/colab-badge.svg\" alt=\"Open In Colab\"/></a>"
   ]
  },
  {
   "cell_type": "code",
   "execution_count": null,
   "metadata": {
    "vscode": {
     "languageId": "plaintext"
    }
   },
   "outputs": [],
   "source": [
    "import osmnx as ox\n",
    "import geopandas as gpd\n",
    "import pandas as pd\n",
    "from shapely.geometry import Point\n",
    "import math\n",
    "import warnings\n",
    "\n",
    "def normalize(value, min_val=0, max_val=100):\n",
    "    \"\"\"Normalize a value to a 0–100 scale based on a fixed range.\"\"\"\n",
    "    if value < min_val or value > max_val:\n",
    "        warnings.warn(f\"Value {value} is outside the expected range [{min_val}, {max_val}].\")\n",
    "    return min(100, max(0, (value - min_val) / (max_val - min_val) * 100))\n",
    "\n",
    "def calculate_walkability_score(location, radius=1000, street_weight=0.4, intersection_weight=0.4, amenity_weight=0.2):\n",
    "    \"\"\"\n",
    "    Calculate a walkability score for a location using:\n",
    "    - Street network density (total street length per km²)\n",
    "    - Intersection density (nodes with degree > 1 per km²)\n",
    "    - Amenity density (number of amenities per km²)\n",
    "    \n",
    "    Parameters:\n",
    "        location: Tuple or list (latitude, longitude) representing the center point.\n",
    "        radius: Radius (in meters) to consider around the location.\n",
    "        street_weight: Weight for street density (default 0.4).\n",
    "        intersection_weight: Weight for intersection density (default 0.4).\n",
    "        amenity_weight: Weight for amenity density (default 0.2).\n",
    "    \n",
    "    Returns:\n",
    "        walkability_score: The weighted walkability score.\n",
    "        details: A dictionary with raw metric values.\n",
    "    \"\"\"\n",
    "    try:\n",
    "        # Download the street network (walking network) and amenities from OpenStreetMap\n",
    "        G = ox.graph_from_point(location, dist=radius, network_type='walk')\n",
    "        amenities = ox.geometries_from_point(location, tags={'amenity': ['cafe', 'restaurant', 'shop', 'school', 'hospital']}, dist=radius)\n",
    "        \n",
    "        # Calculate the area in km² for a circle with the given radius.\n",
    "        area = math.pi * (radius ** 2) / 1_000_000\n",
    "        \n",
    "        # Calculate street density:\n",
    "        edge_lengths = [data.get('length', 0) for u, v, data in G.edges(data=True)]\n",
    "        total_length_km = sum(edge_lengths) / 1000\n",
    "        street_density = total_length_km / area if area > 0 else 0\n",
    "        \n",
    "        # Calculate intersection density:\n",
    "        nodes, _ = ox.graph_to_gdfs(G)\n",
    "        nodes['street_count'] = nodes.index.map(G.degree)\n",
    "        intersection_density = len(nodes[nodes['street_count'] > 2]) / area if area > 0 else 0\n",
    "        \n",
    "        # Calculate amenity density:\n",
    "        amenity_density = len(amenities) / area if area > 0 else 0\n",
    "        \n",
    "        # Combine the metrics into a weighted walkability score:\n",
    "        walkability_score = (\n",
    "            street_weight * normalize(street_density) +\n",
    "            intersection_weight * normalize(intersection_density) +\n",
    "            amenity_weight * normalize(amenity_density)\n",
    "        )\n",
    "        \n",
    "        return walkability_score, {\n",
    "            'street_density': street_density,\n",
    "            'intersection_density': intersection_density,\n",
    "            'amenities_per_sqkm': amenity_density\n",
    "        }\n",
    "    except Exception as e:\n",
    "        print(f\"Error calculating walkability score: {e}\")\n",
    "        return None, None\n",
    "\n",
    "# Example usage:\n",
    "if __name__ == '__main__':\n",
    "    # Example: Centered at a location (latitude, longitude)\n",
    "    location = (40.748817, -73.985428)  # Example: New York, Empire State Building area\n",
    "    score, details = calculate_walkability_score(location, radius=1000)\n",
    "    if score is not None:\n",
    "        print(\"Walkability Score:\", score)\n",
    "        print(\"Details:\", details)"
   ]
  }
 ],
 "metadata": {
  "language_info": {
   "name": "python"
  }
 },
 "nbformat": 4,
 "nbformat_minor": 2
}
